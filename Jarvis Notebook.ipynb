{
 "cells": [
  {
   "cell_type": "code",
   "execution_count": 1,
   "id": "1d8b0a51-1b38-4a9b-9c81-c95d2f071494",
   "metadata": {},
   "outputs": [],
   "source": [
    "from RealtimeSTT import AudioToTextRecorder"
   ]
  },
  {
   "cell_type": "code",
   "execution_count": 4,
   "id": "55062bed-3b73-4e40-99d7-330c1864aeb5",
   "metadata": {},
   "outputs": [
    {
     "name": "stderr",
     "output_type": "stream",
     "text": [
      "RealTimeSTT: realtimestt - ERROR - Wakeword engine  unknown/unsupported or wake_words not specified. Please specify one of: pvporcupine, openwakeword.\n",
      "NoneType: None\n",
      "RealTimeSTT: realtimestt - ERROR - Wakeword engine  unknown/unsupported or wake_words not specified. Please specify one of: pvporcupine, openwakeword.\n",
      "NoneType: None\n"
     ]
    },
    {
     "name": "stdout",
     "output_type": "stream",
     "text": [
      "Say \"Jarvis\" then speak.\n",
      "- say jarvisRealtimeSTT shutting down\n",
      "- say jarvis"
     ]
    },
    {
     "name": "stderr",
     "output_type": "stream",
     "text": [
      "\n",
      "KeyboardInterrupt\n",
      "\n"
     ]
    },
    {
     "name": "stdout",
     "output_type": "stream",
     "text": [
      "Error in callback <function Halo.__init__.<locals>.clean_up at 0x000001BD6023BA30> (for post_run_cell), with arguments args (<ExecutionResult object at 1bd58863160, execution_count=4 error_before_exec=None error_in_exec= info=<ExecutionInfo object at 1bd58863100, raw_cell=\"recorder = AudioToTextRecorder(wake_words=\"jarvis\"..\" store_history=True silent=False shell_futures=True cell_id=55062bed-3b73-4e40-99d7-330c1864aeb5> result=None>,),kwargs {}:\n"
     ]
    },
    {
     "ename": "TypeError",
     "evalue": "Halo.__init__.<locals>.clean_up() takes 0 positional arguments but 1 was given",
     "output_type": "error",
     "traceback": [
      "\u001b[1;31m---------------------------------------------------------------------------\u001b[0m",
      "\u001b[1;31mTypeError\u001b[0m                                 Traceback (most recent call last)",
      "\u001b[1;31mTypeError\u001b[0m: Halo.__init__.<locals>.clean_up() takes 0 positional arguments but 1 was given"
     ]
    },
    {
     "name": "stdout",
     "output_type": "stream",
     "text": [
      "Error in callback <function Halo.__init__.<locals>.clean_up at 0x000001BD60A485E0> (for post_run_cell), with arguments args (<ExecutionResult object at 1bd58863160, execution_count=4 error_before_exec=None error_in_exec= info=<ExecutionInfo object at 1bd58863100, raw_cell=\"recorder = AudioToTextRecorder(wake_words=\"jarvis\"..\" store_history=True silent=False shell_futures=True cell_id=55062bed-3b73-4e40-99d7-330c1864aeb5> result=None>,),kwargs {}:\n"
     ]
    },
    {
     "ename": "TypeError",
     "evalue": "Halo.__init__.<locals>.clean_up() takes 0 positional arguments but 1 was given",
     "output_type": "error",
     "traceback": [
      "\u001b[1;31m---------------------------------------------------------------------------\u001b[0m",
      "\u001b[1;31mTypeError\u001b[0m                                 Traceback (most recent call last)",
      "\u001b[1;31mTypeError\u001b[0m: Halo.__init__.<locals>.clean_up() takes 0 positional arguments but 1 was given"
     ]
    },
    {
     "name": "stdout",
     "output_type": "stream",
     "text": [
      "\\ say jarvis"
     ]
    }
   ],
   "source": [
    "# recorder = AudioToTextRecorder(wake_words=\"jarvis\")\n",
    "\n",
    "# print('Say \"Jarvis\" then speak.')\n",
    "# print(recorder.text())"
   ]
  },
  {
   "cell_type": "code",
   "execution_count": 2,
   "id": "ba01cd20-084f-4eaf-9805-bdd416d9482a",
   "metadata": {},
   "outputs": [
    {
     "name": "stdout",
     "output_type": "stream",
     "text": [
      "/ recording"
     ]
    },
    {
     "name": "stdin",
     "output_type": "stream",
     "text": [
      "Press Enter to stop recording... \n"
     ]
    },
    {
     "name": "stdout",
     "output_type": "stream",
     "text": [
      "Transcription:  Hello, can you hear me?\n",
      "Error in callback <function Halo.__init__.<locals>.clean_up at 0x0000018DEDE40EE0> (for post_run_cell), with arguments args (<ExecutionResult object at 18de663ba60, execution_count=2 error_before_exec=None error_in_exec=None info=<ExecutionInfo object at 18de663b4c0, raw_cell=\"recorder = AudioToTextRecorder()\n",
      "recorder.start()\n",
      "..\" store_history=True silent=False shell_futures=True cell_id=ba01cd20-084f-4eaf-9805-bdd416d9482a> result=None>,),kwargs {}:\n"
     ]
    },
    {
     "ename": "TypeError",
     "evalue": "Halo.__init__.<locals>.clean_up() takes 0 positional arguments but 1 was given",
     "output_type": "error",
     "traceback": [
      "\u001b[1;31m---------------------------------------------------------------------------\u001b[0m",
      "\u001b[1;31mTypeError\u001b[0m                                 Traceback (most recent call last)",
      "\u001b[1;31mTypeError\u001b[0m: Halo.__init__.<locals>.clean_up() takes 0 positional arguments but 1 was given"
     ]
    },
    {
     "name": "stdout",
     "output_type": "stream",
     "text": [
      "Error in callback <function Halo.__init__.<locals>.clean_up at 0x0000018DEDE41120> (for post_run_cell), with arguments args (<ExecutionResult object at 18de663ba60, execution_count=2 error_before_exec=None error_in_exec=None info=<ExecutionInfo object at 18de663b4c0, raw_cell=\"recorder = AudioToTextRecorder()\n",
      "recorder.start()\n",
      "..\" store_history=True silent=False shell_futures=True cell_id=ba01cd20-084f-4eaf-9805-bdd416d9482a> result=None>,),kwargs {}:\n"
     ]
    },
    {
     "ename": "TypeError",
     "evalue": "Halo.__init__.<locals>.clean_up() takes 0 positional arguments but 1 was given",
     "output_type": "error",
     "traceback": [
      "\u001b[1;31m---------------------------------------------------------------------------\u001b[0m",
      "\u001b[1;31mTypeError\u001b[0m                                 Traceback (most recent call last)",
      "\u001b[1;31mTypeError\u001b[0m: Halo.__init__.<locals>.clean_up() takes 0 positional arguments but 1 was given"
     ]
    }
   ],
   "source": [
    "recorder = AudioToTextRecorder()\n",
    "recorder.start()\n",
    "input(\"Press Enter to stop recording...\")\n",
    "recorder.stop()\n",
    "print(\"Transcription: \", recorder.text())"
   ]
  },
  {
   "cell_type": "code",
   "execution_count": null,
   "id": "14d69e67-db83-4a1f-94f1-2a669a1716c5",
   "metadata": {},
   "outputs": [],
   "source": []
  }
 ],
 "metadata": {
  "kernelspec": {
   "display_name": "Python 3 (ipykernel)",
   "language": "python",
   "name": "python3"
  },
  "language_info": {
   "codemirror_mode": {
    "name": "ipython",
    "version": 3
   },
   "file_extension": ".py",
   "mimetype": "text/x-python",
   "name": "python",
   "nbconvert_exporter": "python",
   "pygments_lexer": "ipython3",
   "version": "3.10.15"
  }
 },
 "nbformat": 4,
 "nbformat_minor": 5
}
